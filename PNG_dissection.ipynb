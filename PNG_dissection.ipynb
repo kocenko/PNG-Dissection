{
 "cells": [
  {
   "cell_type": "markdown",
   "metadata": {
    "collapsed": false
   },
   "source": [
    "# **PNG Dissection**"
   ]
  },
  {
   "cell_type": "markdown",
   "metadata": {
    "collapsed": false
   },
   "source": [
    "The notebook allows to perform various operations on PNG files, including:\n",
    "1. Viewing all critical as well as certain ancillary image chunks.\n",
    "2. Plotting of the image Fourier transform.\n",
    "3. Anonymization of a given PNG file with saving the resulting image."
   ]
  },
  {
   "cell_type": "markdown",
   "metadata": {
    "collapsed": false
   },
   "source": [
    "### Import required libraries"
   ]
  },
  {
   "cell_type": "code",
   "execution_count": null,
   "metadata": {
    "collapsed": false
   },
   "outputs": [],
   "source": [
    "from png import png_image\n",
    "from IPython.display import Image, display"
   ]
  },
  {
   "cell_type": "markdown",
   "metadata": {
    "collapsed": false
   },
   "source": [
    "### Loading PNG file\n",
    "Choose an input file from sample images placed in ./imgs folder."
   ]
  },
  {
   "cell_type": "code",
   "execution_count": null,
   "metadata": {
    "collapsed": false
   },
   "outputs": [],
   "source": [
    "file = \"baboon.png\"\n",
    "input_file = \"imgs/\" + file\n",
    "anon_file = \"imgs/processed/anonymized_\" + file\n",
    "\n",
    "png_file = png_image.PNG(input_file)\n",
    "png_file.process_chunks()\n",
    "critical_chunks = [\"IHDR\", \"PLTE\", \"IDAT\", \"IEND\"]\n",
    "ancillary_chunks = [\"cHRM\", \"gAMA\", \"iCCP\", \"sBIT\", \"sRGB\", \"bKGD\", \"hIST\", \"tRNS\", \"pHYs\", \"sPLT\", \"tIME\", \"iTXt\", \"tEXt\", \"zTXt\"]\n",
    "\n",
    "image = Image(filename=input_file, width=200, height=200)\n",
    "display(image)"
   ]
  },
  {
   "cell_type": "markdown",
   "source": [
    "### Displaying critical chunks"
   ],
   "metadata": {
    "collapsed": false
   }
  },
  {
   "cell_type": "code",
   "execution_count": null,
   "metadata": {
    "collapsed": false
   },
   "outputs": [],
   "source": [
    "chunks = list({key: value for key, value in png_file.chunks.items() if value is not None})\n",
    "\n",
    "print(f\"Found chunks: {chunks}\")\n",
    "print(\"\\nCritical chunks:\")\n",
    "\n",
    "for ch in chunks:\n",
    "    if ch in critical_chunks:\n",
    "        print(f\"----{ch}----\")\n",
    "        png_file.display_chunk(ch)"
   ]
  },
  {
   "cell_type": "markdown",
   "source": [
    "### Displaying chosen ancillary chunks"
   ],
   "metadata": {
    "collapsed": false
   }
  },
  {
   "cell_type": "code",
   "execution_count": null,
   "outputs": [],
   "source": [
    "for ch in chunks:\n",
    "    if ch in ancillary_chunks:\n",
    "        print(f\"----{ch}----\")\n",
    "        png_file.display_chunk(ch)"
   ],
   "metadata": {
    "collapsed": false
   }
  },
  {
   "cell_type": "markdown",
   "metadata": {
    "collapsed": false
   },
   "source": [
    "### Performing image anonymization"
   ]
  },
  {
   "cell_type": "code",
   "execution_count": null,
   "outputs": [],
   "source": [
    "png_file.anonymize()\n",
    "\n",
    "print(\"Image comparison:\\n\")\n",
    "print(\"----Before anonymization:----\")\n",
    "display(Image(filename=input_file))\n",
    "print(\"----After anonymization:----\")\n",
    "display(Image(filename=anon_file))"
   ],
   "metadata": {
    "collapsed": false
   }
  },
  {
   "cell_type": "code",
   "execution_count": null,
   "outputs": [],
   "source": [],
   "metadata": {
    "collapsed": false
   }
  },
  {
   "cell_type": "code",
   "execution_count": null,
   "outputs": [],
   "source": [],
   "metadata": {
    "collapsed": false
   }
  }
 ],
 "metadata": {
  "kernelspec": {
   "display_name": "Python 3",
   "language": "python",
   "name": "python3"
  },
  "language_info": {
   "codemirror_mode": {
    "name": "ipython",
    "version": 3
   },
   "file_extension": ".py",
   "mimetype": "text/x-python",
   "name": "python",
   "nbconvert_exporter": "python",
   "pygments_lexer": "ipython3",
   "version": "3.10.10"
  }
 },
 "nbformat": 4,
 "nbformat_minor": 0
}
