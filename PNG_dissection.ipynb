{
 "cells": [
  {
   "cell_type": "markdown",
   "metadata": {
    "collapsed": false
   },
   "source": [
    "# **PNG Dissection**"
   ]
  },
  {
   "cell_type": "markdown",
   "metadata": {
    "collapsed": false
   },
   "source": [
    "The notebook allows to perform various operations on PNG files including:\n",
    "1. Viewing all critical as well as certain ancillary image chunks.\n",
    "2. Anonymization of a given PNG file with saving the resulting image."
   ]
  },
  {
   "cell_type": "markdown",
   "metadata": {
    "collapsed": false
   },
   "source": [
    "## Loading needed libraries"
   ]
  },
  {
   "cell_type": "code",
   "execution_count": 6,
   "metadata": {
    "collapsed": false,
    "ExecuteTime": {
     "end_time": "2023-05-16T18:09:25.322908700Z",
     "start_time": "2023-05-16T18:09:25.286886400Z"
    }
   },
   "outputs": [],
   "source": [
    "from png import png_image\n",
    "from IPython.display import Image, display"
   ]
  },
  {
   "cell_type": "markdown",
   "metadata": {
    "collapsed": false
   },
   "source": [
    "## Loading PNG file\n",
    "Choose an input file from sample images placed in ./imgs folder."
   ]
  },
  {
   "cell_type": "code",
   "execution_count": 7,
   "metadata": {
    "collapsed": false,
    "ExecuteTime": {
     "end_time": "2023-05-16T18:09:25.348805200Z",
     "start_time": "2023-05-16T18:09:25.299891600Z"
    }
   },
   "outputs": [
    {
     "data": {
      "image/png": "[encoded data removed]",
      "text/plain": "<IPython.core.display.Image object>"
     },
     "metadata": {
      "image/png": {
       "width": 200,
       "height": 200
      }
     },
     "output_type": "display_data"
    }
   ],
   "source": [
    "input_file = \"imgs/parrot_plte_16bit.png\"\n",
    "image = Image(filename=input_file, width=200, height=200)\n",
    "display(image)"
   ]
  },
  {
   "cell_type": "markdown",
   "metadata": {
    "collapsed": false
   },
   "source": [
    "## Displaying critical chunks"
   ]
  },
  {
   "cell_type": "code",
   "execution_count": 8,
   "metadata": {
    "collapsed": false,
    "ExecuteTime": {
     "end_time": "2023-05-16T18:09:25.348805200Z",
     "start_time": "2023-05-16T18:09:25.322908700Z"
    }
   },
   "outputs": [
    {
     "name": "stdout",
     "output_type": "stream",
     "text": [
      "local variable 'palette_nums' referenced before assignment\n",
      "Found chunks: ['IHDR', 'PLTE', 'IDAT', 'IEND', 'cHRM', 'gAMA', 'iCCP', 'sBIT', 'sRGB', 'bKGD', 'hIST', 'tRNS', 'pHYs', 'sPLT', 'tIME', 'iTXt', 'tEXt', 'zTXt']\n",
      "\n",
      "Critical chunks:\n",
      "----IHDR----\n",
      "width : 174\n",
      "height : 200\n",
      "bit_depth : 8\n",
      "colour_type : 3\n",
      "compression_method : 0\n",
      "filter_method : 0\n",
      "interlace_method : 0\n",
      "\n",
      "----PLTE----\n",
      "Red: 4, Green: 4, Blue: 0\n",
      "Red: 72, Green: 28, Blue: 16\n",
      "Red: 36, Green: 60, Blue: 12\n",
      "Red: 161, Green: 12, Blue: 8\n",
      "Red: 80, Green: 93, Blue: 24\n",
      "Red: 214, Green: 28, Blue: 20\n",
      "Red: 89, Green: 80, Blue: 89\n",
      "Red: 153, Green: 64, Blue: 44\n",
      "Red: 105, Green: 117, Blue: 137\n",
      "Red: 246, Green: 72, Blue: 40\n",
      "Red: 101, Green: 149, Blue: 40\n",
      "Red: 165, Green: 113, Blue: 89\n",
      "Red: 133, Green: 153, Blue: 165\n",
      "Red: 246, Green: 117, Blue: 72\n",
      "Red: 246, Green: 182, Blue: 97\n",
      "Red: 234, Green: 222, Blue: 194\n",
      "Red: 16, Green: 16, Blue: 16\n",
      "Red: 16, Green: 16, Blue: 16\n",
      "Red: 16, Green: 16, Blue: 16\n",
      "Red: 16, Green: 16, Blue: 16\n",
      "Red: 20, Green: 20, Blue: 20\n",
      "Red: 20, Green: 20, Blue: 20\n",
      "Red: 20, Green: 20, Blue: 20\n",
      "Red: 20, Green: 20, Blue: 20\n",
      "Red: 24, Green: 24, Blue: 24\n",
      "Red: 24, Green: 24, Blue: 24\n",
      "Red: 24, Green: 24, Blue: 24\n",
      "Red: 24, Green: 24, Blue: 24\n",
      "Red: 28, Green: 28, Blue: 28\n",
      "Red: 28, Green: 28, Blue: 28\n",
      "Red: 28, Green: 28, Blue: 28\n",
      "Red: 28, Green: 28, Blue: 28\n",
      "Red: 32, Green: 32, Blue: 32\n",
      "Red: 32, Green: 32, Blue: 32\n",
      "Red: 32, Green: 32, Blue: 32\n",
      "Red: 32, Green: 32, Blue: 32\n",
      "Red: 36, Green: 36, Blue: 36\n",
      "Red: 36, Green: 36, Blue: 36\n",
      "Red: 36, Green: 36, Blue: 36\n",
      "Red: 36, Green: 36, Blue: 36\n",
      "Red: 40, Green: 40, Blue: 40\n",
      "Red: 40, Green: 40, Blue: 40\n",
      "Red: 40, Green: 40, Blue: 40\n",
      "Red: 40, Green: 40, Blue: 40\n",
      "Red: 44, Green: 44, Blue: 44\n",
      "Red: 44, Green: 44, Blue: 44\n",
      "Red: 44, Green: 44, Blue: 44\n",
      "Red: 44, Green: 44, Blue: 44\n",
      "Red: 48, Green: 48, Blue: 48\n",
      "Red: 48, Green: 48, Blue: 48\n",
      "Red: 48, Green: 48, Blue: 48\n",
      "Red: 48, Green: 48, Blue: 48\n",
      "Red: 52, Green: 52, Blue: 52\n",
      "Red: 52, Green: 52, Blue: 52\n",
      "Red: 52, Green: 52, Blue: 52\n",
      "Red: 52, Green: 52, Blue: 52\n",
      "Red: 56, Green: 56, Blue: 56\n",
      "Red: 56, Green: 56, Blue: 56\n",
      "Red: 56, Green: 56, Blue: 56\n",
      "Red: 56, Green: 56, Blue: 56\n",
      "Red: 60, Green: 60, Blue: 60\n",
      "Red: 60, Green: 60, Blue: 60\n",
      "Red: 60, Green: 60, Blue: 60\n",
      "Red: 60, Green: 60, Blue: 60\n",
      "Red: 64, Green: 64, Blue: 64\n",
      "Red: 64, Green: 64, Blue: 64\n",
      "Red: 64, Green: 64, Blue: 64\n",
      "Red: 64, Green: 64, Blue: 64\n",
      "Red: 68, Green: 68, Blue: 68\n",
      "Red: 68, Green: 68, Blue: 68\n",
      "Red: 68, Green: 68, Blue: 68\n",
      "Red: 68, Green: 68, Blue: 68\n",
      "Red: 72, Green: 72, Blue: 72\n",
      "Red: 72, Green: 72, Blue: 72\n",
      "Red: 72, Green: 72, Blue: 72\n",
      "Red: 72, Green: 72, Blue: 72\n",
      "Red: 76, Green: 76, Blue: 76\n",
      "Red: 76, Green: 76, Blue: 76\n",
      "Red: 76, Green: 76, Blue: 76\n",
      "Red: 76, Green: 76, Blue: 76\n",
      "Red: 80, Green: 80, Blue: 80\n",
      "Red: 80, Green: 80, Blue: 80\n",
      "Red: 80, Green: 80, Blue: 80\n",
      "Red: 80, Green: 80, Blue: 80\n",
      "Red: 85, Green: 85, Blue: 85\n",
      "Red: 85, Green: 85, Blue: 85\n",
      "Red: 85, Green: 85, Blue: 85\n",
      "Red: 85, Green: 85, Blue: 85\n",
      "Red: 89, Green: 89, Blue: 89\n",
      "Red: 89, Green: 89, Blue: 89\n",
      "Red: 89, Green: 89, Blue: 89\n",
      "Red: 89, Green: 89, Blue: 89\n",
      "Red: 93, Green: 93, Blue: 93\n",
      "Red: 93, Green: 93, Blue: 93\n",
      "Red: 93, Green: 93, Blue: 93\n",
      "Red: 93, Green: 93, Blue: 93\n",
      "Red: 97, Green: 97, Blue: 97\n",
      "Red: 97, Green: 97, Blue: 97\n",
      "Red: 97, Green: 97, Blue: 97\n",
      "Red: 97, Green: 97, Blue: 97\n",
      "Red: 101, Green: 101, Blue: 101\n",
      "Red: 101, Green: 101, Blue: 101\n",
      "Red: 101, Green: 101, Blue: 101\n",
      "Red: 101, Green: 101, Blue: 101\n",
      "Red: 105, Green: 105, Blue: 105\n",
      "Red: 105, Green: 105, Blue: 105\n",
      "Red: 105, Green: 105, Blue: 105\n",
      "Red: 105, Green: 105, Blue: 105\n",
      "Red: 109, Green: 109, Blue: 109\n",
      "Red: 109, Green: 109, Blue: 109\n",
      "Red: 109, Green: 109, Blue: 109\n",
      "Red: 109, Green: 109, Blue: 109\n",
      "Red: 113, Green: 113, Blue: 113\n",
      "Red: 113, Green: 113, Blue: 113\n",
      "Red: 113, Green: 113, Blue: 113\n",
      "Red: 113, Green: 113, Blue: 113\n",
      "Red: 117, Green: 117, Blue: 117\n",
      "Red: 117, Green: 117, Blue: 117\n",
      "Red: 117, Green: 117, Blue: 117\n",
      "Red: 117, Green: 117, Blue: 117\n",
      "Red: 121, Green: 121, Blue: 121\n",
      "Red: 121, Green: 121, Blue: 121\n",
      "Red: 121, Green: 121, Blue: 121\n",
      "Red: 121, Green: 121, Blue: 121\n",
      "Red: 125, Green: 125, Blue: 125\n",
      "Red: 125, Green: 125, Blue: 125\n",
      "Red: 125, Green: 125, Blue: 125\n",
      "Red: 125, Green: 125, Blue: 125\n",
      "Red: 129, Green: 129, Blue: 129\n",
      "Red: 129, Green: 129, Blue: 129\n",
      "Red: 129, Green: 129, Blue: 129\n",
      "Red: 129, Green: 129, Blue: 129\n",
      "Red: 133, Green: 133, Blue: 133\n",
      "Red: 133, Green: 133, Blue: 133\n",
      "Red: 133, Green: 133, Blue: 133\n",
      "Red: 133, Green: 133, Blue: 133\n",
      "Red: 137, Green: 137, Blue: 137\n",
      "Red: 137, Green: 137, Blue: 137\n",
      "Red: 137, Green: 137, Blue: 137\n",
      "Red: 137, Green: 137, Blue: 137\n",
      "Red: 141, Green: 141, Blue: 141\n",
      "Red: 141, Green: 141, Blue: 141\n",
      "Red: 141, Green: 141, Blue: 141\n",
      "Red: 141, Green: 141, Blue: 141\n",
      "Red: 145, Green: 145, Blue: 145\n",
      "Red: 145, Green: 145, Blue: 145\n",
      "Red: 145, Green: 145, Blue: 145\n",
      "Red: 145, Green: 145, Blue: 145\n",
      "Red: 149, Green: 149, Blue: 149\n",
      "Red: 149, Green: 149, Blue: 149\n",
      "Red: 149, Green: 149, Blue: 149\n",
      "Red: 149, Green: 149, Blue: 149\n",
      "Red: 153, Green: 153, Blue: 153\n",
      "Red: 153, Green: 153, Blue: 153\n",
      "Red: 153, Green: 153, Blue: 153\n",
      "Red: 153, Green: 153, Blue: 153\n",
      "Red: 157, Green: 157, Blue: 157\n",
      "Red: 157, Green: 157, Blue: 157\n",
      "Red: 157, Green: 157, Blue: 157\n",
      "Red: 157, Green: 157, Blue: 157\n",
      "Red: 161, Green: 161, Blue: 161\n",
      "Red: 161, Green: 161, Blue: 161\n",
      "Red: 161, Green: 161, Blue: 161\n",
      "Red: 161, Green: 161, Blue: 161\n",
      "Red: 165, Green: 165, Blue: 165\n",
      "Red: 165, Green: 165, Blue: 165\n",
      "Red: 165, Green: 165, Blue: 165\n",
      "Red: 165, Green: 165, Blue: 165\n",
      "Red: 170, Green: 170, Blue: 170\n",
      "Red: 170, Green: 170, Blue: 170\n",
      "Red: 170, Green: 170, Blue: 170\n",
      "Red: 170, Green: 170, Blue: 170\n",
      "Red: 174, Green: 174, Blue: 174\n",
      "Red: 174, Green: 174, Blue: 174\n",
      "Red: 174, Green: 174, Blue: 174\n",
      "Red: 174, Green: 174, Blue: 174\n",
      "Red: 178, Green: 178, Blue: 178\n",
      "Red: 178, Green: 178, Blue: 178\n",
      "Red: 178, Green: 178, Blue: 178\n",
      "Red: 178, Green: 178, Blue: 178\n",
      "Red: 182, Green: 182, Blue: 182\n",
      "Red: 182, Green: 182, Blue: 182\n",
      "Red: 182, Green: 182, Blue: 182\n",
      "Red: 182, Green: 182, Blue: 182\n",
      "Red: 186, Green: 186, Blue: 186\n",
      "Red: 186, Green: 186, Blue: 186\n",
      "Red: 186, Green: 186, Blue: 186\n",
      "Red: 186, Green: 186, Blue: 186\n",
      "Red: 190, Green: 190, Blue: 190\n",
      "Red: 190, Green: 190, Blue: 190\n",
      "Red: 190, Green: 190, Blue: 190\n",
      "Red: 190, Green: 190, Blue: 190\n",
      "Red: 194, Green: 194, Blue: 194\n",
      "Red: 194, Green: 194, Blue: 194\n",
      "Red: 194, Green: 194, Blue: 194\n",
      "Red: 194, Green: 194, Blue: 194\n",
      "Red: 198, Green: 198, Blue: 198\n",
      "Red: 198, Green: 198, Blue: 198\n",
      "Red: 198, Green: 198, Blue: 198\n",
      "Red: 198, Green: 198, Blue: 198\n",
      "Red: 202, Green: 202, Blue: 202\n",
      "Red: 202, Green: 202, Blue: 202\n",
      "Red: 202, Green: 202, Blue: 202\n",
      "Red: 202, Green: 202, Blue: 202\n",
      "Red: 206, Green: 206, Blue: 206\n",
      "Red: 206, Green: 206, Blue: 206\n",
      "Red: 206, Green: 206, Blue: 206\n",
      "Red: 206, Green: 206, Blue: 206\n",
      "Red: 210, Green: 210, Blue: 210\n",
      "Red: 210, Green: 210, Blue: 210\n",
      "Red: 210, Green: 210, Blue: 210\n",
      "Red: 210, Green: 210, Blue: 210\n",
      "Red: 214, Green: 214, Blue: 214\n",
      "Red: 214, Green: 214, Blue: 214\n",
      "Red: 214, Green: 214, Blue: 214\n",
      "Red: 214, Green: 214, Blue: 214\n",
      "Red: 218, Green: 218, Blue: 218\n",
      "Red: 218, Green: 218, Blue: 218\n",
      "Red: 218, Green: 218, Blue: 218\n",
      "Red: 218, Green: 218, Blue: 218\n",
      "Red: 222, Green: 222, Blue: 222\n",
      "Red: 222, Green: 222, Blue: 222\n",
      "Red: 222, Green: 222, Blue: 222\n",
      "Red: 222, Green: 222, Blue: 222\n",
      "Red: 226, Green: 226, Blue: 226\n",
      "Red: 226, Green: 226, Blue: 226\n",
      "Red: 226, Green: 226, Blue: 226\n",
      "Red: 226, Green: 226, Blue: 226\n",
      "Red: 230, Green: 230, Blue: 230\n",
      "Red: 230, Green: 230, Blue: 230\n",
      "Red: 230, Green: 230, Blue: 230\n",
      "Red: 230, Green: 230, Blue: 230\n",
      "Red: 234, Green: 234, Blue: 234\n",
      "Red: 234, Green: 234, Blue: 234\n",
      "Red: 234, Green: 234, Blue: 234\n",
      "Red: 234, Green: 234, Blue: 234\n",
      "Red: 238, Green: 238, Blue: 238\n",
      "Red: 238, Green: 238, Blue: 238\n",
      "Red: 238, Green: 238, Blue: 238\n",
      "Red: 238, Green: 238, Blue: 238\n",
      "Red: 242, Green: 242, Blue: 242\n",
      "Red: 242, Green: 242, Blue: 242\n",
      "Red: 242, Green: 242, Blue: 242\n",
      "Red: 242, Green: 242, Blue: 242\n",
      "Red: 246, Green: 246, Blue: 246\n",
      "Red: 246, Green: 246, Blue: 246\n",
      "Red: 246, Green: 246, Blue: 246\n",
      "Red: 246, Green: 246, Blue: 246\n",
      "Red: 250, Green: 250, Blue: 250\n",
      "Red: 250, Green: 250, Blue: 250\n",
      "Red: 250, Green: 250, Blue: 250\n",
      "Red: 250, Green: 250, Blue: 250\n",
      "Red: 255, Green: 255, Blue: 255\n",
      "Red: 255, Green: 255, Blue: 255\n",
      "Red: 255, Green: 255, Blue: 255\n",
      "Red: 255, Green: 255, Blue: 255\n",
      "\n",
      "----IDAT----\n",
      "Chunk has not been processed yet\n",
      "\n",
      "----IEND----\n",
      "Chunk IEND was read correctly\n"
     ]
    }
   ],
   "source": [
    "png_file = png_image.PNG(input_file)\n",
    "png_file.process_chunks()\n",
    "\n",
    "chunks = [k for k in png_file.chunks]\n",
    "print(f\"Found chunks: {chunks}\")\n",
    "\n",
    "print(\"\\nCritical chunks:\")\n",
    "print(\"----IHDR----\")\n",
    "png_file.display_chunk(\"IHDR\")\n",
    "print(\"\\n----PLTE----\")\n",
    "png_file.display_chunk(\"PLTE\")\n",
    "print(\"\\n----IDAT----\")\n",
    "png_file.display_chunk(\"IDAT\")\n",
    "print(\"\\n----IEND----\")\n",
    "png_file.display_chunk(\"IEND\")"
   ]
  },
  {
   "cell_type": "markdown",
   "metadata": {
    "collapsed": false
   },
   "source": [
    "## Performing image anonymization"
   ]
  },
  {
   "cell_type": "code",
   "execution_count": 9,
   "outputs": [
    {
     "name": "stdout",
     "output_type": "stream",
     "text": [
      "Caramba!\n",
      "Image comparison:\n",
      "\n",
      "----Before anonymization:----\n"
     ]
    },
    {
     "data": {
      "image/png": "[encoded data removed]",
      "text/plain": "<IPython.core.display.Image object>"
     },
     "metadata": {
      "image/png": {
       "width": 200,
       "height": 200
      }
     },
     "output_type": "display_data"
    },
    {
     "name": "stdout",
     "output_type": "stream",
     "text": [
      "----After anonymization:----\n"
     ]
    },
    {
     "data": {
      "image/png": "[encoded data removed]",
      "text/plain": "<IPython.core.display.Image object>"
     },
     "metadata": {
      "image/png": {
       "width": 200,
       "height": 200
      }
     },
     "output_type": "display_data"
    }
   ],
   "source": [
    "png_file.anonymize()\n",
    "\n",
    "print(\"Image comparison:\\n\")\n",
    "print(\"----Before anonymization:----\")\n",
    "display(Image(filename=\"imgs/parrot_plte_16bit.png\", width=200, height=200))\n",
    "print(\"----After anonymization:----\")\n",
    "display(Image(filename=\"imgs/processed/anonymized_parrot_plte_16bit.png\", width=200, height=200))"
   ],
   "metadata": {
    "collapsed": false,
    "ExecuteTime": {
     "end_time": "2023-05-16T18:09:25.370116200Z",
     "start_time": "2023-05-16T18:09:25.330079300Z"
    }
   }
  },
  {
   "cell_type": "code",
   "execution_count": 10,
   "outputs": [],
   "source": [
    "# TODO anon. doesnt work for baboon; gotta change images displaying to matplotlib using grid  (problem with the png pallete); organize the notebook"
   ],
   "metadata": {
    "collapsed": false,
    "ExecuteTime": {
     "end_time": "2023-05-16T18:09:25.383702300Z",
     "start_time": "2023-05-16T18:09:25.359112200Z"
    }
   }
  }
 ],
 "metadata": {
  "kernelspec": {
   "display_name": "Python 3",
   "language": "python",
   "name": "python3"
  },
  "language_info": {
   "codemirror_mode": {
    "name": "ipython",
    "version": 3
   },
   "file_extension": ".py",
   "mimetype": "text/x-python",
   "name": "python",
   "nbconvert_exporter": "python",
   "pygments_lexer": "ipython3",
   "version": "3.10.10"
  }
 },
 "nbformat": 4,
 "nbformat_minor": 0
}
