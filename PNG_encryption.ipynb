{
 "cells": [
  {
   "attachments": {},
   "cell_type": "markdown",
   "metadata": {
    "collapsed": false
   },
   "source": [
    "# **PNG encription with RSA algorithm**\n",
    "The notebook allows to perform encryption and decription of a given png file using custom and a function form rsa library."
   ]
  },
  {
   "attachments": {},
   "cell_type": "markdown",
   "metadata": {
    "collapsed": false
   },
   "source": [
    "### Import required libraries"
   ]
  },
  {
   "cell_type": "code",
   "execution_count": 1,
   "metadata": {
    "ExecuteTime": {
     "end_time": "2023-06-19T06:46:50.624787300Z",
     "start_time": "2023-06-19T06:46:48.851442800Z"
    },
    "collapsed": false
   },
   "outputs": [],
   "source": [
    "from png import png_image, utils\n",
    "from PIL import Image\n",
    "import matplotlib.pyplot as plt\n",
    "from png import rsa"
   ]
  },
  {
   "attachments": {},
   "cell_type": "markdown",
   "metadata": {
    "collapsed": false
   },
   "source": [
    "### Load PNG file"
   ]
  },
  {
   "cell_type": "code",
   "execution_count": 2,
   "metadata": {
    "ExecuteTime": {
     "end_time": "2023-06-19T06:46:50.817172600Z",
     "start_time": "2023-06-19T06:46:50.634457900Z"
    },
    "collapsed": false
   },
   "outputs": [
    {
     "name": "stdout",
     "output_type": "stream",
     "text": [
      "Decoded chunk eXIf type not in the list of standard chunks\n"
     ]
    },
    {
     "data": {
      "image/png": "[encoded data removed]",
      "text/plain": [
       "<Figure size 640x480 with 1 Axes>"
      ]
     },
     "metadata": {},
     "output_type": "display_data"
    }
   ],
   "source": [
    "file = \"histogram.png\"\n",
    "input_file = \"imgs/\" + file\n",
    "\n",
    "png_file = png_image.PNG(input_file)\n",
    "\n",
    "input_img = Image.open(input_file)\n",
    "\n",
    "plt.imshow(input_img)\n",
    "plt.title(\"Loaded PNG image\")\n",
    "plt.axis('off')\n",
    "plt.show()"
   ]
  },
  {
   "attachments": {},
   "cell_type": "markdown",
   "metadata": {
    "collapsed": false
   },
   "source": [
    "### RSA encription\n",
    "\n",
    "First generate the rsa keys"
   ]
  },
  {
   "cell_type": "code",
   "execution_count": 3,
   "metadata": {
    "ExecuteTime": {
     "end_time": "2023-06-19T06:46:53.721303200Z",
     "start_time": "2023-06-19T06:46:50.817172600Z"
    },
    "collapsed": false
   },
   "outputs": [],
   "source": [
    "private_key, public_key = rsa.generate_rsa_keys()"
   ]
  },
  {
   "cell_type": "code",
   "execution_count": 4,
   "metadata": {
    "ExecuteTime": {
     "end_time": "2023-06-19T06:46:54.106612700Z",
     "start_time": "2023-06-19T06:46:53.850531100Z"
    },
    "collapsed": false
   },
   "outputs": [
    {
     "name": "stdout",
     "output_type": "stream",
     "text": [
      "ORIGINAL DATA LEN: 544\n",
      "ENCODED DATA LEN: 1152\n"
     ]
    }
   ],
   "source": [
    "cipher_decompressed = True\n",
    "mode = \"CTR\"\n",
    "png_file.encrypt(public_key,mode=mode, cipher_decompressed=cipher_decompressed)\n",
    "#\n",
    "# input_img = Image.open(\"imgs/processed/decrypted.png\")\n",
    "# input_img.show()"
   ]
  },
  {
   "cell_type": "code",
   "execution_count": 5,
   "metadata": {
    "ExecuteTime": {
     "end_time": "2023-06-19T06:46:54.419136Z",
     "start_time": "2023-06-19T06:46:54.079250400Z"
    },
    "collapsed": false
   },
   "outputs": [
    {
     "name": "stdout",
     "output_type": "stream",
     "text": [
      "DECODED DATA LEN: 1152\n"
     ]
    }
   ],
   "source": [
    "file = \"encrypted.png\"\n",
    "input_file = \"imgs/processed/\" + file\n",
    "input_img = Image.open(input_file)\n",
    "\n",
    "dec_file = png_image.PNG(input_file)\n",
    "dec_file.decrypt(public_key, private_key, mode=mode, cipher_decompressed=cipher_decompressed)\n",
    "\n",
    "# input_img = Image.open(input_file)\n",
    "# plt.imshow(input_img)\n",
    "# plt.title(\"Decrypted PNG image\")\n",
    "# plt.axis('off')\n",
    "# plt.show()"
   ]
  }
 ],
 "metadata": {
  "kernelspec": {
   "display_name": "Python 3",
   "language": "python",
   "name": "python3"
  },
  "language_info": {
   "codemirror_mode": {
    "name": "ipython",
    "version": 3
   },
   "file_extension": ".py",
   "mimetype": "text/x-python",
   "name": "python",
   "nbconvert_exporter": "python",
   "pygments_lexer": "ipython3",
   "version": "3.10.10"
  }
 },
 "nbformat": 4,
 "nbformat_minor": 0
}
