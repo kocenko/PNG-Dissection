{
 "cells": [
  {
   "cell_type": "markdown",
   "source": [
    "# **PNG encription with RSA algorithm**\n",
    "The notebook allows to perform encryption and decription of a given png file using custom and a function form rsa library."
   ],
   "metadata": {
    "collapsed": false
   }
  },
  {
   "cell_type": "markdown",
   "source": [
    "### Import required libraries"
   ],
   "metadata": {
    "collapsed": false
   }
  },
  {
   "cell_type": "code",
   "execution_count": 1,
   "outputs": [],
   "source": [
    "from png import png_image, utils\n",
    "from PIL import Image\n",
    "import matplotlib.pyplot as plt\n",
    "from png import rsa"
   ],
   "metadata": {
    "collapsed": false,
    "ExecuteTime": {
     "end_time": "2023-06-17T19:55:50.682561600Z",
     "start_time": "2023-06-17T19:55:50.219847800Z"
    }
   }
  },
  {
   "cell_type": "markdown",
   "source": [
    "### Load PNG file"
   ],
   "metadata": {
    "collapsed": false
   }
  },
  {
   "cell_type": "code",
   "execution_count": 2,
   "outputs": [
    {
     "data": {
      "text/plain": "<Figure size 640x480 with 1 Axes>",
      "image/png": "[encoded data removed]"
     },
     "metadata": {},
     "output_type": "display_data"
    }
   ],
   "source": [
    "file = \"histogram.png\"\n",
    "input_file = \"imgs/\" + file\n",
    "\n",
    "png_file = png_image.PNG(input_file)\n",
    "\n",
    "input_img = Image.open(input_file)\n",
    "\n",
    "plt.imshow(input_img)\n",
    "plt.title(\"Loaded PNG image\")\n",
    "plt.axis('off')\n",
    "plt.show()"
   ],
   "metadata": {
    "collapsed": false,
    "ExecuteTime": {
     "end_time": "2023-06-17T19:55:50.772350500Z",
     "start_time": "2023-06-17T19:55:50.682561600Z"
    }
   }
  },
  {
   "cell_type": "markdown",
   "source": [
    "### RSA encription\n",
    "\n",
    "First generate the rsa keys"
   ],
   "metadata": {
    "collapsed": false
   }
  },
  {
   "cell_type": "code",
   "execution_count": 3,
   "outputs": [
    {
     "name": "stdout",
     "output_type": "stream",
     "text": [
      "Key length: 1024\n"
     ]
    }
   ],
   "source": [
    "private_key, public_key = rsa.generate_rsa_key_pair()"
   ],
   "metadata": {
    "collapsed": false,
    "ExecuteTime": {
     "end_time": "2023-06-17T19:55:50.889044500Z",
     "start_time": "2023-06-17T19:55:50.826304700Z"
    }
   }
  },
  {
   "cell_type": "code",
   "execution_count": 4,
   "outputs": [],
   "source": [
    "from png import png_image\n",
    "mamma_mia = True\n",
    "png_file.encrypt(public_key, cipher_decompressed=mamma_mia)"
   ],
   "metadata": {
    "collapsed": false,
    "ExecuteTime": {
     "end_time": "2023-06-17T19:55:50.920038800Z",
     "start_time": "2023-06-17T19:55:50.889044500Z"
    }
   }
  },
  {
   "cell_type": "code",
   "execution_count": 5,
   "outputs": [
    {
     "ename": "OverflowError",
     "evalue": "int too big to convert",
     "output_type": "error",
     "traceback": [
      "\u001B[1;31m---------------------------------------------------------------------------\u001B[0m",
      "\u001B[1;31mOverflowError\u001B[0m                             Traceback (most recent call last)",
      "Cell \u001B[1;32mIn[5], line 6\u001B[0m\n\u001B[0;32m      3\u001B[0m input_img \u001B[38;5;241m=\u001B[39m Image\u001B[38;5;241m.\u001B[39mopen(input_file)\n\u001B[0;32m      5\u001B[0m dec_file \u001B[38;5;241m=\u001B[39m png_image\u001B[38;5;241m.\u001B[39mPNG(input_file)\n\u001B[1;32m----> 6\u001B[0m \u001B[43mdec_file\u001B[49m\u001B[38;5;241;43m.\u001B[39;49m\u001B[43mdecrypt\u001B[49m\u001B[43m(\u001B[49m\u001B[43mprivate_key\u001B[49m\u001B[43m,\u001B[49m\u001B[43m \u001B[49m\u001B[43mcipher_decompressed\u001B[49m\u001B[38;5;241;43m=\u001B[39;49m\u001B[43mmamma_mia\u001B[49m\u001B[43m)\u001B[49m\n",
      "File \u001B[1;32m~\\Desktop\\emedia\\PNG-Dissection\\png\\png_image.py:374\u001B[0m, in \u001B[0;36mPNG.decrypt\u001B[1;34m(self, private_key, save_file, cipher_decompressed)\u001B[0m\n\u001B[0;32m    369\u001B[0m max_bytes \u001B[38;5;241m=\u001B[39m \u001B[38;5;241m64\u001B[39m  \u001B[38;5;66;03m# private key length - encrypted data block size\u001B[39;00m\n\u001B[0;32m    370\u001B[0m \u001B[38;5;28;01mfor\u001B[39;00m j \u001B[38;5;129;01min\u001B[39;00m \u001B[38;5;28mrange\u001B[39m(length \u001B[38;5;241m/\u001B[39m\u001B[38;5;241m/\u001B[39m max_bytes \u001B[38;5;241m+\u001B[39m \u001B[38;5;241m1\u001B[39m):\n\u001B[0;32m    371\u001B[0m     \u001B[38;5;66;03m# if (j + 1) * max_bytes >= len(chunk_data):\u001B[39;00m\n\u001B[0;32m    372\u001B[0m     \u001B[38;5;66;03m#     dec_data += rsa.ecb_decrypt(chunk_data[j * max_bytes:len(chunk_data) - 1], private_key)\u001B[39;00m\n\u001B[0;32m    373\u001B[0m     \u001B[38;5;66;03m#     break\u001B[39;00m\n\u001B[1;32m--> 374\u001B[0m     dec_data \u001B[38;5;241m+\u001B[39m\u001B[38;5;241m=\u001B[39m \u001B[43mrsa\u001B[49m\u001B[38;5;241;43m.\u001B[39;49m\u001B[43mecb_decrypt\u001B[49m\u001B[43m(\u001B[49m\u001B[43mchunk_data\u001B[49m\u001B[43m[\u001B[49m\u001B[43mj\u001B[49m\u001B[43m \u001B[49m\u001B[38;5;241;43m*\u001B[39;49m\u001B[43m \u001B[49m\u001B[43mmax_bytes\u001B[49m\u001B[43m:\u001B[49m\u001B[43m(\u001B[49m\u001B[43mj\u001B[49m\u001B[43m \u001B[49m\u001B[38;5;241;43m+\u001B[39;49m\u001B[43m \u001B[49m\u001B[38;5;241;43m1\u001B[39;49m\u001B[43m)\u001B[49m\u001B[43m \u001B[49m\u001B[38;5;241;43m*\u001B[39;49m\u001B[43m \u001B[49m\u001B[43mmax_bytes\u001B[49m\u001B[43m]\u001B[49m\u001B[43m,\u001B[49m\u001B[43m \u001B[49m\u001B[43mprivate_key\u001B[49m\u001B[43m)\u001B[49m\n\u001B[0;32m    375\u001B[0m \u001B[38;5;28;01mif\u001B[39;00m cipher_decompressed:\n\u001B[0;32m    376\u001B[0m     chunk_data \u001B[38;5;241m=\u001B[39m zlib\u001B[38;5;241m.\u001B[39mcompress(dec_data)\n",
      "File \u001B[1;32m~\\Desktop\\emedia\\PNG-Dissection\\png\\rsa.py:20\u001B[0m, in \u001B[0;36mecb_decrypt\u001B[1;34m(bytes_str, private_key)\u001B[0m\n\u001B[0;32m     18\u001B[0m plaintext_bytes \u001B[38;5;241m=\u001B[39m \u001B[38;5;28mpow\u001B[39m(ciphertext_int, d, n)\n\u001B[0;32m     19\u001B[0m \u001B[38;5;66;03m# print(math.log2(plaintext_bytes))\u001B[39;00m\n\u001B[1;32m---> 20\u001B[0m \u001B[38;5;28;01mreturn\u001B[39;00m \u001B[43mplaintext_bytes\u001B[49m\u001B[38;5;241;43m.\u001B[39;49m\u001B[43mto_bytes\u001B[49m\u001B[43m(\u001B[49m\u001B[43mBLOCK_SIZE\u001B[49m\u001B[43m,\u001B[49m\u001B[43m \u001B[49m\u001B[38;5;124;43m\"\u001B[39;49m\u001B[38;5;124;43mbig\u001B[39;49m\u001B[38;5;124;43m\"\u001B[39;49m\u001B[43m)\u001B[49m\n",
      "\u001B[1;31mOverflowError\u001B[0m: int too big to convert"
     ]
    }
   ],
   "source": [
    "file = \"encrypted_histogram.png\"\n",
    "input_file = \"imgs/rsa/\" + file\n",
    "input_img = Image.open(input_file)\n",
    "\n",
    "dec_file = png_image.PNG(input_file)\n",
    "dec_file.decrypt(private_key, cipher_decompressed=mamma_mia)"
   ],
   "metadata": {
    "collapsed": false,
    "ExecuteTime": {
     "end_time": "2023-06-17T19:55:51.130791Z",
     "start_time": "2023-06-17T19:55:50.920038800Z"
    }
   }
  },
  {
   "cell_type": "code",
   "execution_count": null,
   "outputs": [],
   "source": [],
   "metadata": {
    "collapsed": false
   }
  }
 ],
 "metadata": {
  "kernelspec": {
   "display_name": "Python 3",
   "language": "python",
   "name": "python3"
  },
  "language_info": {
   "codemirror_mode": {
    "name": "ipython",
    "version": 2
   },
   "file_extension": ".py",
   "mimetype": "text/x-python",
   "name": "python",
   "nbconvert_exporter": "python",
   "pygments_lexer": "ipython2",
   "version": "2.7.6"
  }
 },
 "nbformat": 4,
 "nbformat_minor": 0
}
