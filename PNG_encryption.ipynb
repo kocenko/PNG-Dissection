{
 "cells": [
  {
   "attachments": {},
   "cell_type": "markdown",
   "metadata": {
    "collapsed": false
   },
   "source": [
    "# **PNG encription with RSA algorithm**\n",
    "The notebook allows to perform encryption and decription of a given png file using custom and a function form rsa library."
   ]
  },
  {
   "attachments": {},
   "cell_type": "markdown",
   "metadata": {
    "collapsed": false
   },
   "source": [
    "### Import required libraries"
   ]
  },
  {
   "cell_type": "code",
   "execution_count": 1,
   "metadata": {
    "ExecuteTime": {
     "end_time": "2023-06-17T19:55:50.682561600Z",
     "start_time": "2023-06-17T19:55:50.219847800Z"
    },
    "collapsed": false
   },
   "outputs": [],
   "source": [
    "from png import png_image, utils\n",
    "from PIL import Image\n",
    "import matplotlib.pyplot as plt\n",
    "from png import rsa"
   ]
  },
  {
   "attachments": {},
   "cell_type": "markdown",
   "metadata": {
    "collapsed": false
   },
   "source": [
    "### Load PNG file"
   ]
  },
  {
   "cell_type": "code",
   "execution_count": 2,
   "metadata": {
    "ExecuteTime": {
     "end_time": "2023-06-17T19:55:50.772350500Z",
     "start_time": "2023-06-17T19:55:50.682561600Z"
    },
    "collapsed": false
   },
   "outputs": [
    {
     "data": {
      "image/png": "[encoded data removed]",
      "text/plain": [
       "<Figure size 640x480 with 1 Axes>"
      ]
     },
     "metadata": {},
     "output_type": "display_data"
    }
   ],
   "source": [
    "file = \"sqr.png\"\n",
    "input_file = \"imgs/\" + file\n",
    "\n",
    "png_file = png_image.PNG(input_file)\n",
    "\n",
    "input_img = Image.open(input_file)\n",
    "\n",
    "plt.imshow(input_img)\n",
    "plt.title(\"Loaded PNG image\")\n",
    "plt.axis('off')\n",
    "plt.show()"
   ]
  },
  {
   "attachments": {},
   "cell_type": "markdown",
   "metadata": {
    "collapsed": false
   },
   "source": [
    "### RSA encription\n",
    "\n",
    "First generate the rsa keys"
   ]
  },
  {
   "cell_type": "code",
   "execution_count": 3,
   "metadata": {
    "ExecuteTime": {
     "end_time": "2023-06-17T19:55:50.889044500Z",
     "start_time": "2023-06-17T19:55:50.826304700Z"
    },
    "collapsed": false
   },
   "outputs": [],
   "source": [
    "private_key, public_key = rsa.generate_rsa_keys()"
   ]
  },
  {
   "cell_type": "code",
   "execution_count": 4,
   "metadata": {
    "ExecuteTime": {
     "end_time": "2023-06-17T19:55:50.920038800Z",
     "start_time": "2023-06-17T19:55:50.889044500Z"
    },
    "collapsed": false
   },
   "outputs": [],
   "source": [
    "from png import png_image\n",
    "mamma_mia = True\n",
    "png_file.encrypt(public_key, cipher_decompressed=mamma_mia)"
   ]
  },
  {
   "cell_type": "code",
   "execution_count": null,
   "metadata": {},
   "outputs": [],
   "source": []
  },
  {
   "cell_type": "code",
   "execution_count": 5,
   "metadata": {
    "ExecuteTime": {
     "end_time": "2023-06-17T19:55:51.130791Z",
     "start_time": "2023-06-17T19:55:50.920038800Z"
    },
    "collapsed": false
   },
   "outputs": [],
   "source": [
    "file = \"encrypted.png\"\n",
    "input_file = \"imgs/processed/\" + file\n",
    "input_img = Image.open(input_file)\n",
    "\n",
    "dec_file = png_image.PNG(input_file)\n",
    "dec_file.decrypt(private_key, cipher_decompressed=mamma_mia)"
   ]
  },
  {
   "cell_type": "code",
   "execution_count": null,
   "metadata": {
    "collapsed": false
   },
   "outputs": [],
   "source": []
  }
 ],
 "metadata": {
  "kernelspec": {
   "display_name": "Python 3",
   "language": "python",
   "name": "python3"
  },
  "language_info": {
   "codemirror_mode": {
    "name": "ipython",
    "version": 3
   },
   "file_extension": ".py",
   "mimetype": "text/x-python",
   "name": "python",
   "nbconvert_exporter": "python",
   "pygments_lexer": "ipython3",
   "version": "3.10.10"
  }
 },
 "nbformat": 4,
 "nbformat_minor": 0
}
