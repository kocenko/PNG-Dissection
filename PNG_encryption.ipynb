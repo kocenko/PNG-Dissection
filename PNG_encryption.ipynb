{
 "cells": [
  {
   "attachments": {},
   "cell_type": "markdown",
   "metadata": {
    "collapsed": false
   },
   "source": [
    "# **PNG encription with RSA algorithm**\n",
    "The notebook allows to perform encryption and decription of a given png file using custom and a function form rsa library."
   ]
  },
  {
   "attachments": {},
   "cell_type": "markdown",
   "metadata": {
    "collapsed": false
   },
   "source": [
    "### Import required libraries"
   ]
  },
  {
   "cell_type": "code",
   "execution_count": 1,
   "metadata": {
    "ExecuteTime": {
     "end_time": "2023-06-17T19:55:50.682561600Z",
     "start_time": "2023-06-17T19:55:50.219847800Z"
    },
    "collapsed": false
   },
   "outputs": [
    {
     "name": "stdout",
     "output_type": "stream",
     "text": [
      "b'D\\x8c\\xcc{\\xc8\\xe0x\\x11Yd\\xd7\\xcd\\x8f*B\\x9d\\xb0\\xac\\x00\\x88\\xbaM\\xdf?\\xf1\\xb8\\xe4\\xeev\\xfcSx\\xed\\x15\\xb2\\xf3\\xec|\\xb9\\xf5\\xf2\\xe3\\xbeU\\x05s\\xc4\\xc2\\x1b\\xefJ\\xb9\\xf6K\\x0b\\x86\\x01\\x02\\xda]&#d\\xcdw\\xc5X\\x82\\x030\\\\F\\x8a\\x84h\\xc3\"*\\xb0\\x0b\\x8e\\x96\\x1d@\\xa61\\xcc\\xa7\\x03\\xf8\\x1d\\x16\\xb6]\\x89\\xce\\xcc\\x996h\\x02`\\xc7\\xa7\\x1b\\xb4\\x07\\xd0\\x03|\\x15uu\\rA^r\\xe7\\xff\\r\\xd1\\x89)Y\\x85\\x1d\\xfek7\\xe5C!\\xf1\\x98\\x9d\\x12\\x0c\\x8dUwg\\xe5j~*\\xe9\\xcf\\x99>\\x1e\\xfa\\x957\\x0el\\xb7l&\\x0c}\\xd6\\xe54\\xb8Q%\\x95\\x1c\\xd13\\xa2\\x8a\\x87E\\xa3A\\xb7`y\\xdc\\xb9\\x14\\x90#P\\xc6\\x07RE\\xaa\\xc0\\x9fVe\\x00\\x8c\\x89!\\xce\\x1dh\\xf4\\x16\\x94P\\x12\\x97\\x05\\xa6\\xe2\\x07z\"x\\xde\\xb5\\x8a\\x1e\\xcer!\\xa5\\xad\\xb5\\xbb\\xc3\\x04w\\xdf\\xfb\\x92\\x93\\x85S,\\xf6\\xb0\\x03U\\xeb\\xc9\\xe07e\\xd9rG\\x90\\xc1E\\x12\\xb6\\xbc\\x91\\xf1$'\n",
      "True\n"
     ]
    }
   ],
   "source": [
    "from png import png_image, utils\n",
    "from PIL import Image\n",
    "import matplotlib.pyplot as plt\n",
    "from png import rsa"
   ]
  },
  {
   "attachments": {},
   "cell_type": "markdown",
   "metadata": {
    "collapsed": false
   },
   "source": [
    "### Load PNG file"
   ]
  },
  {
   "cell_type": "code",
   "execution_count": 2,
   "metadata": {
    "ExecuteTime": {
     "end_time": "2023-06-17T19:55:50.772350500Z",
     "start_time": "2023-06-17T19:55:50.682561600Z"
    },
    "collapsed": false
   },
   "outputs": [
    {
     "data": {
      "image/png": "[encoded data removed]",
      "text/plain": [
       "<Figure size 640x480 with 1 Axes>"
      ]
     },
     "metadata": {},
     "output_type": "display_data"
    }
   ],
   "source": [
    "file = \"sqr.png\"\n",
    "input_file = \"imgs/\" + file\n",
    "\n",
    "png_file = png_image.PNG(input_file)\n",
    "\n",
    "input_img = Image.open(input_file)\n",
    "\n",
    "plt.imshow(input_img)\n",
    "plt.title(\"Loaded PNG image\")\n",
    "plt.axis('off')\n",
    "plt.show()"
   ]
  },
  {
   "attachments": {},
   "cell_type": "markdown",
   "metadata": {
    "collapsed": false
   },
   "source": [
    "### RSA encription\n",
    "\n",
    "First generate the rsa keys"
   ]
  },
  {
   "cell_type": "code",
   "execution_count": 3,
   "metadata": {
    "ExecuteTime": {
     "end_time": "2023-06-17T19:55:50.889044500Z",
     "start_time": "2023-06-17T19:55:50.826304700Z"
    },
    "collapsed": false
   },
   "outputs": [
    {
     "name": "stdout",
     "output_type": "stream",
     "text": [
      "(7378238364115555315777036619982284169346799288002734470706292250224536397233306497124865726387435369590120125877740972775309010678965483840256090073896937143170377015756601274774069502728169319631535134302554841328948946170946867341447351512431238937188366890754683812415808809858397874019180463197403739134128704141915043816886203689163058740682318815423404034306058638921358494278805456814983428134130328014155533418503442741761761671824637213193513668905867079602113958824880131126830175424897736257148574670004767781259649785760653133604905377298665930283095184512802166953664105853632183855978140350230734044883, 28327873597719099972718477060850452600943532230534820855858891834045642140780450552427331710129570596046225310104829361756212697021249168054459687972886263596440248411232602782771156610727426094011410601272456091958141093376296155001557572144686902892259315103552563571116970521760232436042166814296284725440025769189189123468929122028391174405781228978517116587633761485191305634547043178465262573063031922886790396275166837745877044820530961610792903267245263468664220176895762270315192649748768116811766710951202261006234464951673301506641742663695747260692572645907591027806329050135587639417913457491545124925893)\n",
      "(8207745102419697291179844802965259686687698487485814079072671749278759248927789319661456165371984603618362660566615063415057832659529352236097162797543137266863861405307221851821829418573855122107994154100203526344878669322935133531528893760342571164437818812814049238192915754437658179391209957797906439157202451495302298462778775785934578533079947009343552566414290946188668840203270681808124408805242741780331030745030067449033357097574884897976035471978359846323203449928572743544737855578734477822961445301062757595498847276911128645856630819376323801416996802191213872900136741875859980143053250813238041367727, 28327873597719099972718477060850452600943532230534820855858891834045642140780450552427331710129570596046225310104829361756212697021249168054459687972886263596440248411232602782771156610727426094011410601272456091958141093376296155001557572144686902892259315103552563571116970521760232436042166814296284725440025769189189123468929122028391174405781228978517116587633761485191305634547043178465262573063031922886790396275166837745877044820530961610792903267245263468664220176895762270315192649748768116811766710951202261006234464951673301506641742663695747260692572645907591027806329050135587639417913457491545124925893)\n"
     ]
    }
   ],
   "source": [
    "private_key, public_key = rsa.generate_rsa_keys()\n",
    "print(private_key)\n",
    "print(public_key)"
   ]
  },
  {
   "cell_type": "code",
   "execution_count": 4,
   "metadata": {
    "ExecuteTime": {
     "end_time": "2023-06-17T19:55:50.920038800Z",
     "start_time": "2023-06-17T19:55:50.889044500Z"
    },
    "collapsed": false
   },
   "outputs": [
    {
     "name": "stdout",
     "output_type": "stream",
     "text": [
      "bytearray(b\"h\\xde\\xed\\xda1\\n\\xc00\\x0c\\x04\\xc1\\xbb\\xe0\\xff\\x7fY\\xf9\\x81\\xbb\\x10\\x1bf[5S\\x08\\xd4\\xa83\\x93\\xdbzra\\xd0\\xd0\\xd0\\xd0\\xd0g\\xb7\\xf6\\xe3\\xb6\\xbf\\xb0\\xf6w\\xdaz@CCCCCCCCCCCCCCCCCCCCCCCCC\\x7fZ}\\xd6@CCCCC\\'y\\x01\\x8b\\xb2\\ts\")\n"
     ]
    }
   ],
   "source": [
    "from png import png_image\n",
    "mamma_mia = False\n",
    "png_file.encrypt(public_key, cipher_decompressed=mamma_mia)"
   ]
  },
  {
   "cell_type": "code",
   "execution_count": null,
   "metadata": {},
   "outputs": [],
   "source": []
  },
  {
   "cell_type": "code",
   "execution_count": 5,
   "metadata": {
    "ExecuteTime": {
     "end_time": "2023-06-17T19:55:51.130791Z",
     "start_time": "2023-06-17T19:55:50.920038800Z"
    },
    "collapsed": false
   },
   "outputs": [
    {
     "name": "stdout",
     "output_type": "stream",
     "text": [
      "bytearray(b\"h\\xde\\xed\\xda1\\n\\xc00\\x0c\\x04\\xc1\\xbb\\xe0\\xff\\x7fY\\xf9\\x81\\xbb\\x10\\x1bf[5S\\x08\\xd4\\xa83\\x93\\xdbzra\\xd0\\xd0\\xd0\\xd0\\xd0g\\xb7\\xf6\\xe3\\xb6\\xbf\\xb0\\xf6w\\xdaz@CCCCCCCCCCCCCCCCCCCCCCCCC\\x7fZ}\\xd6@CCCCC\\'y\\x01\\x8b\\xb2\\ts\")\n"
     ]
    }
   ],
   "source": [
    "file = \"encrypted.png\"\n",
    "input_file = \"imgs/processed/\" + file\n",
    "input_img = Image.open(input_file)\n",
    "\n",
    "dec_file = png_image.PNG(input_file)\n",
    "dec_file.decrypt(private_key, cipher_decompressed=mamma_mia)"
   ]
  },
  {
   "cell_type": "code",
   "execution_count": null,
   "metadata": {
    "collapsed": false
   },
   "outputs": [],
   "source": []
  }
 ],
 "metadata": {
  "kernelspec": {
   "display_name": "Python 3",
   "language": "python",
   "name": "python3"
  },
  "language_info": {
   "codemirror_mode": {
    "name": "ipython",
    "version": 3
   },
   "file_extension": ".py",
   "mimetype": "text/x-python",
   "name": "python",
   "nbconvert_exporter": "python",
   "pygments_lexer": "ipython3",
   "version": "3.10.10"
  }
 },
 "nbformat": 4,
 "nbformat_minor": 0
}
